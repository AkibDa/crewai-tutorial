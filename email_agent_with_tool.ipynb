{
 "cells": [
  {
   "cell_type": "code",
   "execution_count": 1,
   "metadata": {},
   "outputs": [
    {
     "data": {
      "text/plain": [
       "True"
      ]
     },
     "execution_count": 1,
     "metadata": {},
     "output_type": "execute_result"
    }
   ],
   "source": [
    "from dotenv import load_dotenv\n",
    "load_dotenv()"
   ]
  },
  {
   "cell_type": "code",
   "execution_count": 2,
   "metadata": {},
   "outputs": [],
   "source": [
    "from crewai import LLM\n",
    "\n",
    "llm = LLM(\n",
    "  model = \"gemini/gemini-2.0-flash\",\n",
    "  temperature = 0.1,\n",
    ")"
   ]
  },
  {
   "cell_type": "code",
   "execution_count": 2,
   "metadata": {},
   "outputs": [
    {
     "name": "stdout",
     "output_type": "stream",
     "text": [
      "Using Tool: Replace Jargons\n"
     ]
    },
    {
     "data": {
      "text/plain": [
       "'Consider replacing \"PRX\" with \"Project Phoenix (internal AI revamp project)\"\\nConsider replacing \"TAS\" with \"Technical Architecture Stack\"\\nConsider replacing \"SDS\" with \"Smart Data Syncer\"\\nConsider replacing \"SYNCBOT\" with \"Internal Standup Assistant Bot\"\\nConsider replacing \"ping\" with \"reach out\"'"
      ]
     },
     "execution_count": 2,
     "metadata": {},
     "output_type": "execute_result"
    }
   ],
   "source": [
    "original_email = \"\"\"\n",
    "looping in Priya. TAS and PRX updates are in deck. ETA for SDS integration is Friday.\n",
    "Let's sync up tomorrow if SYNCBOT allows 😄. ping me if any blockers.\n",
    "\"\"\"\n",
    "\n",
    "from crewai.tools import BaseTool\n",
    "\n",
    "class ReplaceJargonsTool(BaseTool):\n",
    "  name: str = \"Replace Jargons\"\n",
    "  description: str = \"Replaces jargons and abbreviations in the email with their full forms.\"\n",
    "\n",
    "  def _run(self, email: str) -> str:\n",
    "    replacements = {\n",
    "      \"PRX\": \"Project Phoenix (internal AI revamp project)\",\n",
    "      \"TAS\": \"Technical Architecture Stack\",\n",
    "      \"DBX\": \"Client Database Syncer\",\n",
    "      \"SDS\": \"Smart Data Syncer\",\n",
    "      \"SYNCBOT\": \"Internal Standup Assistant Bot\",\n",
    "      \"WIP\": \"in progess\",\n",
    "      \"POC\": \"proof of concept\",\n",
    "      \"ping\": \"reach out\"\n",
    "    }\n",
    "    suggestions = []\n",
    "    email_lower = email.lower()\n",
    "    for jargon, replacement in replacements.items():\n",
    "      if jargon.lower() in email_lower:\n",
    "        suggestions.append(f'Consider replacing \"{jargon}\" with \"{replacement}\"')\n",
    "        \n",
    "    return \"\\n\".join(suggestions) if suggestions else \"No jargons or internal abbreviation detected.\"\n",
    "  \n",
    "jt = ReplaceJargonsTool()\n",
    "jt.run(original_email)"
   ]
  },
  {
   "cell_type": "code",
   "execution_count": null,
   "metadata": {},
   "outputs": [],
   "source": [
    "from crewai import Agent, Task, Crew\n",
    "\n",
    "email_assistant = Agent(\n",
    "    role=\"Email Assistant Agent\",\n",
    "    goal=\"Improve emails and make them sound professional and clear\",\n",
    "    backstory=\"A highly experienced communication expert skilled in professional email writing\",\n",
    "    verbose=True,\n",
    "    llm=llm\n",
    ")\n",
    "\n",
    "email_task = Task(\n",
    "    description=f\"\"\"Take the following rough email and rewrite it into a professional and polished version.\n",
    "    Expand abbreviations:\n",
    "    '''{original_email}'''\"\"\",\n",
    "    agent=email_assistant,\n",
    "    expected_output=\"A professional written email with proper formatting and content.\",\n",
    ")\n",
    "\n",
    "crew = Crew(\n",
    "    agents=[email_assistant],\n",
    "    tasks=[email_task],\n",
    "    verbose=True\n",
    ")\n",
    "\n",
    "result = crew.kickoff()\n",
    "print(result)"
   ]
  }
 ],
 "metadata": {
  "kernelspec": {
   "display_name": "crewai-tutorial",
   "language": "python",
   "name": "python3"
  },
  "language_info": {
   "codemirror_mode": {
    "name": "ipython",
    "version": 3
   },
   "file_extension": ".py",
   "mimetype": "text/x-python",
   "name": "python",
   "nbconvert_exporter": "python",
   "pygments_lexer": "ipython3",
   "version": "3.13.1"
  }
 },
 "nbformat": 4,
 "nbformat_minor": 2
}
