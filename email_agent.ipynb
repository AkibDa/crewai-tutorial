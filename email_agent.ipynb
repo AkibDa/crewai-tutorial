{
 "cells": [
  {
   "cell_type": "code",
   "execution_count": 1,
   "metadata": {},
   "outputs": [
    {
     "data": {
      "text/plain": [
       "True"
      ]
     },
     "execution_count": 1,
     "metadata": {},
     "output_type": "execute_result"
    }
   ],
   "source": [
    "from dotenv import load_dotenv\n",
    "load_dotenv()"
   ]
  },
  {
   "cell_type": "code",
   "execution_count": 2,
   "metadata": {},
   "outputs": [
    {
     "data": {
      "text/plain": [
       "'Transcendental Meditation (TM) was popularized by **Maharishi Mahesh Yogi**.\\n'"
      ]
     },
     "execution_count": 2,
     "metadata": {},
     "output_type": "execute_result"
    }
   ],
   "source": [
    "from crewai import LLM\n",
    "\n",
    "llm = LLM(\n",
    "  model = \"gemini/gemini-2.0-flash\",\n",
    "  temperature = 0.1,\n",
    ")\n",
    "llm.call(\"Who invented transcendental meditation?\")"
   ]
  },
  {
   "cell_type": "code",
   "execution_count": 5,
   "metadata": {},
   "outputs": [
    {
     "name": "stdout",
     "output_type": "stream",
     "text": [
      "\u001b[36m╭─\u001b[0m\u001b[36m──────────────────────────\u001b[0m\u001b[36m Crew Execution Started \u001b[0m\u001b[36m──────────────────────────\u001b[0m\u001b[36m─╮\u001b[0m\n",
      "\u001b[36m│\u001b[0m                                                                              \u001b[36m│\u001b[0m\n",
      "\u001b[36m│\u001b[0m  \u001b[1;36mCrew Execution Started\u001b[0m                                                      \u001b[36m│\u001b[0m\n",
      "\u001b[36m│\u001b[0m  \u001b[37mName: \u001b[0m\u001b[36mcrew\u001b[0m                                                                  \u001b[36m│\u001b[0m\n",
      "\u001b[36m│\u001b[0m  \u001b[37mID: \u001b[0m\u001b[36me7a033ed-e635-4939-8f84-c2b07195aed1\u001b[0m                                    \u001b[36m│\u001b[0m\n",
      "\u001b[36m│\u001b[0m  \u001b[37mTool Args: \u001b[0m                                                                 \u001b[36m│\u001b[0m\n",
      "\u001b[36m│\u001b[0m                                                                              \u001b[36m│\u001b[0m\n",
      "\u001b[36m│\u001b[0m                                                                              \u001b[36m│\u001b[0m\n",
      "\u001b[36m╰──────────────────────────────────────────────────────────────────────────────╯\u001b[0m\n",
      "\n",
      "\u001b[?25l\u001b[1;36m🚀 Crew: \u001b[0m\u001b[1;36mcrew\u001b[0m\n",
      "└── \u001b[1;33m📋 Task: bbdc168a-15dc-4171-a16a-31e5623c16d2\u001b[0m\n",
      "    \u001b[37mStatus: \u001b[0m\u001b[2;33mExecuting Task...\u001b[0m\n",
      "\u001b[?25h\u001b[35m╭─\u001b[0m\u001b[35m─────────────────────────────\u001b[0m\u001b[35m 🤖 Agent Started \u001b[0m\u001b[35m─────────────────────────────\u001b[0m\u001b[35m─╮\u001b[0m\n",
      "\u001b[35m│\u001b[0m                                                                              \u001b[35m│\u001b[0m\n",
      "\u001b[35m│\u001b[0m  \u001b[37mAgent: \u001b[0m\u001b[1;92mEmail Assistant Agent\u001b[0m                                                \u001b[35m│\u001b[0m\n",
      "\u001b[35m│\u001b[0m                                                                              \u001b[35m│\u001b[0m\n",
      "\u001b[35m│\u001b[0m  \u001b[37mTask: \u001b[0m\u001b[92mTake the following rough email and rewrite it into a professional \u001b[0m    \u001b[35m│\u001b[0m\n",
      "\u001b[35m│\u001b[0m  \u001b[92mand polished version.\u001b[0m                                                       \u001b[35m│\u001b[0m\n",
      "\u001b[35m│\u001b[0m  \u001b[92m    Expand abbreviations:\u001b[0m                                                   \u001b[35m│\u001b[0m\n",
      "\u001b[35m│\u001b[0m  \u001b[92m    '''\u001b[0m                                                                     \u001b[35m│\u001b[0m\n",
      "\u001b[35m│\u001b[0m  \u001b[92mhey team, just wanted to tell u that the demo is kind of ready, but \u001b[0m        \u001b[35m│\u001b[0m\n",
      "\u001b[35m│\u001b[0m  \u001b[92mthere's still stuff left.\u001b[0m                                                   \u001b[35m│\u001b[0m\n",
      "\u001b[35m│\u001b[0m  \u001b[92mMaybe we can show what we have and say rest is WIP.\u001b[0m                         \u001b[35m│\u001b[0m\n",
      "\u001b[35m│\u001b[0m  \u001b[92mLet me know what u think. thanks\u001b[0m                                            \u001b[35m│\u001b[0m\n",
      "\u001b[35m│\u001b[0m  \u001b[92m'''\u001b[0m                                                                         \u001b[35m│\u001b[0m\n",
      "\u001b[35m│\u001b[0m                                                                              \u001b[35m│\u001b[0m\n",
      "\u001b[35m╰──────────────────────────────────────────────────────────────────────────────╯\u001b[0m\n",
      "\n",
      "\u001b[?25l/Users/skakibahammed/code_playground/crewai-tutorial/.venv/lib/python3.13/site-p\n",
      "ackages/pydantic/main.py:464: UserWarning: Pydantic serializer warnings:\n",
      "  PydanticSerializationUnexpectedValue(Expected `str` - serialized value may not\n",
      "be as expected [field_name='task_id', \n",
      "input_value=UUID('bbdc168a-15dc-4171-a16a-31e5623c16d2'), input_type=UUID])\n",
      "  PydanticSerializationUnexpectedValue(Expected `str` - serialized value may not\n",
      "be as expected [field_name='agent_id', \n",
      "input_value=UUID('421a0375-f12a-41a0-93e5-886a7f4104c1'), input_type=UUID])\n",
      "  return self.__pydantic_serializer__.to_python(\n",
      "\u001b[1;36m🚀 Crew: \u001b[0m\u001b[1;36mcrew\u001b[0m\n",
      "└── \u001b[1;33m📋 Task: bbdc168a-15dc-4171-a16a-31e5623c16d2\u001b[0m\n",
      "    \u001b[37mStatus: \u001b[0m\u001b[2;33mExecuting Task...\u001b[0m\n",
      "\u001b[2K\u001b[1A\u001b[2K\u001b[1A\u001b[2K\u001b[1A\u001b[2K\u001b[1;36m🚀 Crew: \u001b[0m\u001b[1;36mcrew\u001b[0m\n",
      "└── \u001b[1;33m📋 Task: bbdc168a-15dc-4171-a16a-31e5623c16d2\u001b[0m\n",
      "    \u001b[37mStatus: \u001b[0m\u001b[2;33mExecuting Task...\u001b[0m\n",
      "\u001b[2K\u001b[1A\u001b[2K\u001b[1A\u001b[2K\u001b[1A\u001b[2K\u001b[1;36m🚀 Crew: \u001b[0m\u001b[1;36mcrew\u001b[0m\n",
      "└── \u001b[1;33m📋 Task: bbdc168a-15dc-4171-a16a-31e5623c16d2\u001b[0m\n",
      "    \u001b[37mStatus: \u001b[0m\u001b[2;33mExecuting Task...\u001b[0m\n",
      "\u001b[2K\u001b[1A\u001b[2K\u001b[1A\u001b[2K\u001b[1A\u001b[2K\u001b[1;36m🚀 Crew: \u001b[0m\u001b[1;36mcrew\u001b[0m\n",
      "└── \u001b[1;33m📋 Task: bbdc168a-15dc-4171-a16a-31e5623c16d2\u001b[0m\n",
      "    \u001b[37mStatus: \u001b[0m\u001b[2;33mExecuting Task...\u001b[0m\n",
      "\u001b[2K\u001b[1A\u001b[2K\u001b[1A\u001b[2K\u001b[1A\u001b[2K\u001b[1;36m🚀 Crew: \u001b[0m\u001b[1;36mcrew\u001b[0m\n",
      "└── \u001b[1;33m📋 Task: bbdc168a-15dc-4171-a16a-31e5623c16d2\u001b[0m\n",
      "    \u001b[37mStatus: \u001b[0m\u001b[2;33mExecuting Task...\u001b[0m\n",
      "\u001b[2K\u001b[1A\u001b[2K\u001b[1A\u001b[2K\u001b[1A\u001b[2K\u001b[1;36m🚀 Crew: \u001b[0m\u001b[1;36mcrew\u001b[0m\n",
      "└── \u001b[1;33m📋 Task: bbdc168a-15dc-4171-a16a-31e5623c16d2\u001b[0m\n",
      "    \u001b[37mStatus: \u001b[0m\u001b[2;33mExecuting Task...\u001b[0m\n",
      "\u001b[2K\u001b[1A\u001b[2K\u001b[1A\u001b[2K\u001b[1A\u001b[2K\u001b[1;36m🚀 Crew: \u001b[0m\u001b[1;36mcrew\u001b[0m\n",
      "└── \u001b[1;33m📋 Task: bbdc168a-15dc-4171-a16a-31e5623c16d2\u001b[0m\n",
      "    \u001b[37mStatus: \u001b[0m\u001b[2;33mExecuting Task...\u001b[0m\n",
      "\u001b[2K\u001b[1A\u001b[2K\u001b[1A\u001b[2K\u001b[1A\u001b[2K\u001b[1;36m🚀 Crew: \u001b[0m\u001b[1;36mcrew\u001b[0m\n",
      "└── \u001b[1;33m📋 Task: bbdc168a-15dc-4171-a16a-31e5623c16d2\u001b[0m\n",
      "    \u001b[37mStatus: \u001b[0m\u001b[2;33mExecuting Task...\u001b[0m\n",
      "\u001b[2K\u001b[1A\u001b[2K\u001b[1A\u001b[2K\u001b[1A\u001b[2K\u001b[1;36m🚀 Crew: \u001b[0m\u001b[1;36mcrew\u001b[0m\n",
      "└── \u001b[1;33m📋 Task: bbdc168a-15dc-4171-a16a-31e5623c16d2\u001b[0m\n",
      "    \u001b[37mStatus: \u001b[0m\u001b[2;33mExecuting Task...\u001b[0m\n",
      "\u001b[2K\u001b[1A\u001b[2K\u001b[1A\u001b[2K\u001b[1A\u001b[2K\u001b[1;36m🚀 Crew: \u001b[0m\u001b[1;36mcrew\u001b[0m\n",
      "└── \u001b[1;33m📋 Task: bbdc168a-15dc-4171-a16a-31e5623c16d2\u001b[0m\n",
      "\u001b[2K\u001b[1A\u001b[2K\u001b[1A\u001b[2K\u001b[1;36m🚀 Crew: \u001b[0m\u001b[1;36mcrew\u001b[0m\n",
      "└── \u001b[1;33m📋 Task: bbdc168a-15dc-4171-a16a-31e5623c16d2\u001b[0m\n",
      "    \u001b[37mStatus: \u001b[0m\u001b[2;33mExecuting Task...\u001b[0m\n",
      "\u001b[?25h\u001b[32m╭─\u001b[0m\u001b[32m──────────────────────────\u001b[0m\u001b[32m ✅ Agent Final Answer \u001b[0m\u001b[32m───────────────────────────\u001b[0m\u001b[32m─╮\u001b[0m\n",
      "\u001b[32m│\u001b[0m                                                                              \u001b[32m│\u001b[0m\n",
      "\u001b[32m│\u001b[0m  \u001b[37mAgent: \u001b[0m\u001b[1;92mEmail Assistant Agent\u001b[0m                                                \u001b[32m│\u001b[0m\n",
      "\u001b[32m│\u001b[0m                                                                              \u001b[32m│\u001b[0m\n",
      "\u001b[32m│\u001b[0m  \u001b[37mFinal Answer:\u001b[0m                                                               \u001b[32m│\u001b[0m\n",
      "\u001b[32m│\u001b[0m  \u001b[92m```\u001b[0m                                                                         \u001b[32m│\u001b[0m\n",
      "\u001b[32m│\u001b[0m  \u001b[92mSubject: Demo Readiness and Next Steps\u001b[0m                                      \u001b[32m│\u001b[0m\n",
      "\u001b[32m│\u001b[0m                                                                              \u001b[32m│\u001b[0m\n",
      "\u001b[32m│\u001b[0m  \u001b[92mDear Team,\u001b[0m                                                                  \u001b[32m│\u001b[0m\n",
      "\u001b[32m│\u001b[0m                                                                              \u001b[32m│\u001b[0m\n",
      "\u001b[32m│\u001b[0m  \u001b[92mI am writing to provide an update on the demo. The demo is nearing \u001b[0m         \u001b[32m│\u001b[0m\n",
      "\u001b[32m│\u001b[0m  \u001b[92mcompletion; however, some elements are still in development.\u001b[0m                \u001b[32m│\u001b[0m\n",
      "\u001b[32m│\u001b[0m                                                                              \u001b[32m│\u001b[0m\n",
      "\u001b[32m│\u001b[0m  \u001b[92mI propose that we present the current version of the demo, clearly \u001b[0m         \u001b[32m│\u001b[0m\n",
      "\u001b[32m│\u001b[0m  \u001b[92mindicating that the remaining features are work in progress (WIP). This \u001b[0m    \u001b[32m│\u001b[0m\n",
      "\u001b[32m│\u001b[0m  \u001b[92mwill allow stakeholders to see our progress while managing expectations \u001b[0m    \u001b[32m│\u001b[0m\n",
      "\u001b[32m│\u001b[0m  \u001b[92mregarding the unfinished components.\u001b[0m                                        \u001b[32m│\u001b[0m\n",
      "\u001b[32m│\u001b[0m                                                                              \u001b[32m│\u001b[0m\n",
      "\u001b[32m│\u001b[0m  \u001b[92mPlease let me know your thoughts on this approach.\u001b[0m                          \u001b[32m│\u001b[0m\n",
      "\u001b[32m│\u001b[0m                                                                              \u001b[32m│\u001b[0m\n",
      "\u001b[32m│\u001b[0m  \u001b[92mThank you,\u001b[0m                                                                  \u001b[32m│\u001b[0m\n",
      "\u001b[32m│\u001b[0m                                                                              \u001b[32m│\u001b[0m\n",
      "\u001b[32m│\u001b[0m  \u001b[92m[Your Name]\u001b[0m                                                                 \u001b[32m│\u001b[0m\n",
      "\u001b[32m│\u001b[0m  \u001b[92m```\u001b[0m                                                                         \u001b[32m│\u001b[0m\n",
      "\u001b[32m│\u001b[0m                                                                              \u001b[32m│\u001b[0m\n",
      "\u001b[32m╰──────────────────────────────────────────────────────────────────────────────╯\u001b[0m\n",
      "\n",
      "\u001b[?25l\u001b[1;36m🚀 Crew: \u001b[0m\u001b[1;36mcrew\u001b[0m\n",
      "└── \u001b[1;32m📋 Task: bbdc168a-15dc-4171-a16a-31e5623c16d2\u001b[0m\n",
      "    \u001b[37mAssigned to: \u001b[0m\u001b[32mEmail Assistant Agent\u001b[0m\n",
      "    \u001b[37mStatus: \u001b[0m\u001b[1;32m✅ Completed\u001b[0m\n",
      "\u001b[?25h\u001b[32m╭─\u001b[0m\u001b[32m─────────────────────────────\u001b[0m\u001b[32m Task Completion \u001b[0m\u001b[32m──────────────────────────────\u001b[0m\u001b[32m─╮\u001b[0m\n",
      "\u001b[32m│\u001b[0m                                                                              \u001b[32m│\u001b[0m\n",
      "\u001b[32m│\u001b[0m  \u001b[1;32mTask Completed\u001b[0m                                                              \u001b[32m│\u001b[0m\n",
      "\u001b[32m│\u001b[0m  \u001b[37mName: \u001b[0m\u001b[32mbbdc168a-15dc-4171-a16a-31e5623c16d2\u001b[0m                                  \u001b[32m│\u001b[0m\n",
      "\u001b[32m│\u001b[0m  \u001b[37mAgent: \u001b[0m\u001b[32mEmail Assistant Agent\u001b[0m                                                \u001b[32m│\u001b[0m\n",
      "\u001b[32m│\u001b[0m  \u001b[37mTool Args: \u001b[0m                                                                 \u001b[32m│\u001b[0m\n",
      "\u001b[32m│\u001b[0m                                                                              \u001b[32m│\u001b[0m\n",
      "\u001b[32m│\u001b[0m                                                                              \u001b[32m│\u001b[0m\n",
      "\u001b[32m╰──────────────────────────────────────────────────────────────────────────────╯\u001b[0m\n",
      "\n",
      "\u001b[32m╭─\u001b[0m\u001b[32m─────────────────────────────\u001b[0m\u001b[32m Crew Completion \u001b[0m\u001b[32m──────────────────────────────\u001b[0m\u001b[32m─╮\u001b[0m\n",
      "\u001b[32m│\u001b[0m                                                                              \u001b[32m│\u001b[0m\n",
      "\u001b[32m│\u001b[0m  \u001b[1;32mCrew Execution Completed\u001b[0m                                                    \u001b[32m│\u001b[0m\n",
      "\u001b[32m│\u001b[0m  \u001b[37mName: \u001b[0m\u001b[32mcrew\u001b[0m                                                                  \u001b[32m│\u001b[0m\n",
      "\u001b[32m│\u001b[0m  \u001b[37mID: \u001b[0m\u001b[32me7a033ed-e635-4939-8f84-c2b07195aed1\u001b[0m                                    \u001b[32m│\u001b[0m\n",
      "\u001b[32m│\u001b[0m  \u001b[37mTool Args: \u001b[0m                                                                 \u001b[32m│\u001b[0m\n",
      "\u001b[32m│\u001b[0m  \u001b[37mFinal Output: ```\u001b[0m                                                           \u001b[32m│\u001b[0m\n",
      "\u001b[32m│\u001b[0m  \u001b[37mSubject: Demo Readiness and Next Steps\u001b[0m                                      \u001b[32m│\u001b[0m\n",
      "\u001b[32m│\u001b[0m                                                                              \u001b[32m│\u001b[0m\n",
      "\u001b[32m│\u001b[0m  \u001b[37mDear Team,\u001b[0m                                                                  \u001b[32m│\u001b[0m\n",
      "\u001b[32m│\u001b[0m                                                                              \u001b[32m│\u001b[0m\n",
      "\u001b[32m│\u001b[0m  \u001b[37mI am writing to provide an update on the demo. The demo is nearing \u001b[0m         \u001b[32m│\u001b[0m\n",
      "\u001b[32m│\u001b[0m  \u001b[37mcompletion; however, some elements are still in development.\u001b[0m                \u001b[32m│\u001b[0m\n",
      "\u001b[32m│\u001b[0m                                                                              \u001b[32m│\u001b[0m\n",
      "\u001b[32m│\u001b[0m  \u001b[37mI propose that we present the current version of the demo, clearly \u001b[0m         \u001b[32m│\u001b[0m\n",
      "\u001b[32m│\u001b[0m  \u001b[37mindicating that the remaining features are work in progress (WIP). This \u001b[0m    \u001b[32m│\u001b[0m\n",
      "\u001b[32m│\u001b[0m  \u001b[37mwill allow stakeholders to see our progress while managing expectations \u001b[0m    \u001b[32m│\u001b[0m\n",
      "\u001b[32m│\u001b[0m  \u001b[37mregarding the unfinished components.\u001b[0m                                        \u001b[32m│\u001b[0m\n",
      "\u001b[32m│\u001b[0m                                                                              \u001b[32m│\u001b[0m\n",
      "\u001b[32m│\u001b[0m  \u001b[37mPlease let me know your thoughts on this approach.\u001b[0m                          \u001b[32m│\u001b[0m\n",
      "\u001b[32m│\u001b[0m                                                                              \u001b[32m│\u001b[0m\n",
      "\u001b[32m│\u001b[0m  \u001b[37mThank you,\u001b[0m                                                                  \u001b[32m│\u001b[0m\n",
      "\u001b[32m│\u001b[0m                                                                              \u001b[32m│\u001b[0m\n",
      "\u001b[32m│\u001b[0m  \u001b[37m[Your Name]\u001b[0m                                                                 \u001b[32m│\u001b[0m\n",
      "\u001b[32m│\u001b[0m  \u001b[37m```\u001b[0m                                                                         \u001b[32m│\u001b[0m\n",
      "\u001b[32m│\u001b[0m                                                                              \u001b[32m│\u001b[0m\n",
      "\u001b[32m│\u001b[0m                                                                              \u001b[32m│\u001b[0m\n",
      "\u001b[32m╰──────────────────────────────────────────────────────────────────────────────╯\u001b[0m\n",
      "\n"
     ]
    },
    {
     "data": {
      "text/html": [
       "<pre style=\"white-space:pre;overflow-x:auto;line-height:normal;font-family:Menlo,'DejaVu Sans Mono',consolas,'Courier New',monospace\">\n",
       "\n",
       "</pre>\n"
      ],
      "text/plain": [
       "\n",
       "\n"
      ]
     },
     "metadata": {},
     "output_type": "display_data"
    },
    {
     "data": {
      "text/html": [
       "<pre style=\"white-space:pre;overflow-x:auto;line-height:normal;font-family:Menlo,'DejaVu Sans Mono',consolas,'Courier New',monospace\"><span style=\"color: #008080; text-decoration-color: #008080\">╭─────────────────────────────────────────────── </span><span style=\"color: #008080; text-decoration-color: #008080; font-weight: bold\">Execution Traces</span><span style=\"color: #008080; text-decoration-color: #008080\"> ────────────────────────────────────────────────╮</span>\n",
       "<span style=\"color: #008080; text-decoration-color: #008080\">│</span>                                                                                                                 <span style=\"color: #008080; text-decoration-color: #008080\">│</span>\n",
       "<span style=\"color: #008080; text-decoration-color: #008080\">│</span>  <span style=\"color: #008080; text-decoration-color: #008080; font-weight: bold\">🔍 Detailed execution traces are available!</span>                                                                    <span style=\"color: #008080; text-decoration-color: #008080\">│</span>\n",
       "<span style=\"color: #008080; text-decoration-color: #008080\">│</span>                                                                                                                 <span style=\"color: #008080; text-decoration-color: #008080\">│</span>\n",
       "<span style=\"color: #008080; text-decoration-color: #008080\">│</span>  <span style=\"color: #c0c0c0; text-decoration-color: #c0c0c0\">View insights including:</span>                                                                                       <span style=\"color: #008080; text-decoration-color: #008080\">│</span>\n",
       "<span style=\"color: #008080; text-decoration-color: #008080\">│</span>  <span style=\"color: #0000ff; text-decoration-color: #0000ff\">  • Agent decision-making process</span>                                                                              <span style=\"color: #008080; text-decoration-color: #008080\">│</span>\n",
       "<span style=\"color: #008080; text-decoration-color: #008080\">│</span>  <span style=\"color: #0000ff; text-decoration-color: #0000ff\">  • Task execution flow and timing</span>                                                                             <span style=\"color: #008080; text-decoration-color: #008080\">│</span>\n",
       "<span style=\"color: #008080; text-decoration-color: #008080\">│</span>  <span style=\"color: #0000ff; text-decoration-color: #0000ff\">  • Tool usage details</span>                                                                                         <span style=\"color: #008080; text-decoration-color: #008080\">│</span>\n",
       "<span style=\"color: #008080; text-decoration-color: #008080\">│</span>                                                                                                                 <span style=\"color: #008080; text-decoration-color: #008080\">│</span>\n",
       "<span style=\"color: #008080; text-decoration-color: #008080\">╰─────────────────────────────────────────────────────────────────────────────────────────────────────────────────╯</span>\n",
       "</pre>\n"
      ],
      "text/plain": [
       "\u001b[36m╭─\u001b[0m\u001b[36m──────────────────────────────────────────────\u001b[0m\u001b[36m \u001b[0m\u001b[1;36mExecution Traces\u001b[0m\u001b[36m \u001b[0m\u001b[36m───────────────────────────────────────────────\u001b[0m\u001b[36m─╮\u001b[0m\n",
       "\u001b[36m│\u001b[0m                                                                                                                 \u001b[36m│\u001b[0m\n",
       "\u001b[36m│\u001b[0m  \u001b[1;36m🔍 \u001b[0m\u001b[1;36mDetailed execution traces are available!\u001b[0m                                                                    \u001b[36m│\u001b[0m\n",
       "\u001b[36m│\u001b[0m                                                                                                                 \u001b[36m│\u001b[0m\n",
       "\u001b[36m│\u001b[0m  \u001b[37mView insights including:\u001b[0m                                                                                       \u001b[36m│\u001b[0m\n",
       "\u001b[36m│\u001b[0m  \u001b[94m  • Agent decision-making process\u001b[0m                                                                              \u001b[36m│\u001b[0m\n",
       "\u001b[36m│\u001b[0m  \u001b[94m  • Task execution flow and timing\u001b[0m                                                                             \u001b[36m│\u001b[0m\n",
       "\u001b[36m│\u001b[0m  \u001b[94m  • Tool usage details\u001b[0m                                                                                         \u001b[36m│\u001b[0m\n",
       "\u001b[36m│\u001b[0m                                                                                                                 \u001b[36m│\u001b[0m\n",
       "\u001b[36m╰─────────────────────────────────────────────────────────────────────────────────────────────────────────────────╯\u001b[0m\n"
      ]
     },
     "metadata": {},
     "output_type": "display_data"
    },
    {
     "name": "stdout",
     "output_type": "stream",
     "text": [
      "Would you like to view your execution traces? [y/N] (20s timeout): "
     ]
    },
    {
     "name": "stderr",
     "output_type": "stream",
     "text": [
      "Exception in thread Thread-77 (get_input):\n",
      "Traceback (most recent call last):\n",
      "  File \u001b[35m\"/Library/Frameworks/Python.framework/Versions/3.13/lib/python3.13/threading.py\"\u001b[0m, line \u001b[35m1041\u001b[0m, in \u001b[35m_bootstrap_inner\u001b[0m\n",
      "    \u001b[31mself.run\u001b[0m\u001b[1;31m()\u001b[0m\n",
      "    \u001b[31m~~~~~~~~\u001b[0m\u001b[1;31m^^\u001b[0m\n",
      "  File \u001b[35m\"/Users/skakibahammed/code_playground/crewai-tutorial/.venv/lib/python3.13/site-packages/ipykernel/ipkernel.py\"\u001b[0m, line \u001b[35m788\u001b[0m, in \u001b[35mrun_closure\u001b[0m\n",
      "    \u001b[31m_threading_Thread_run\u001b[0m\u001b[1;31m(self)\u001b[0m\n",
      "    \u001b[31m~~~~~~~~~~~~~~~~~~~~~\u001b[0m\u001b[1;31m^^^^^^\u001b[0m\n",
      "  File \u001b[35m\"/Library/Frameworks/Python.framework/Versions/3.13/lib/python3.13/threading.py\"\u001b[0m, line \u001b[35m992\u001b[0m, in \u001b[35mrun\u001b[0m\n",
      "    \u001b[31mself._target\u001b[0m\u001b[1;31m(*self._args, **self._kwargs)\u001b[0m\n",
      "    \u001b[31m~~~~~~~~~~~~\u001b[0m\u001b[1;31m^^^^^^^^^^^^^^^^^^^^^^^^^^^^^\u001b[0m\n",
      "  File \u001b[35m\"/Users/skakibahammed/code_playground/crewai-tutorial/.venv/lib/python3.13/site-packages/crewai/events/listeners/tracing/utils.py\"\u001b[0m, line \u001b[35m359\u001b[0m, in \u001b[35mget_input\u001b[0m\n",
      "    response = \u001b[31minput\u001b[0m\u001b[1;31m()\u001b[0m.strip().lower()\n",
      "               \u001b[31m~~~~~\u001b[0m\u001b[1;31m^^\u001b[0m\n",
      "  File \u001b[35m\"/Users/skakibahammed/code_playground/crewai-tutorial/.venv/lib/python3.13/site-packages/ipykernel/kernelbase.py\"\u001b[0m, line \u001b[35m1475\u001b[0m, in \u001b[35mraw_input\u001b[0m\n",
      "    \u001b[31mself._shell_parent_ident.get\u001b[0m\u001b[1;31m()\u001b[0m,\n",
      "    \u001b[31m~~~~~~~~~~~~~~~~~~~~~~~~~~~~\u001b[0m\u001b[1;31m^^\u001b[0m\n",
      "\u001b[1;35mLookupError\u001b[0m: \u001b[35m<ContextVar name='shell_parent_ident' at 0x1209b84a0>\u001b[0m\n"
     ]
    },
    {
     "name": "stdout",
     "output_type": "stream",
     "text": [
      "```\n",
      "Subject: Demo Readiness and Next Steps\n",
      "\n",
      "Dear Team,\n",
      "\n",
      "I am writing to provide an update on the demo. The demo is nearing completion; however, some elements are still in development.\n",
      "\n",
      "I propose that we present the current version of the demo, clearly indicating that the remaining features are work in progress (WIP). This will allow stakeholders to see our progress while managing expectations regarding the unfinished components.\n",
      "\n",
      "Please let me know your thoughts on this approach.\n",
      "\n",
      "Thank you,\n",
      "\n",
      "[Your Name]\n",
      "```\n"
     ]
    }
   ],
   "source": [
    "from crewai import Agent, Task, Crew\n",
    "\n",
    "email_assistant = Agent(\n",
    "    role=\"Email Assistant Agent\",\n",
    "    goal=\"Improve emails and make them sound professional and clear\",\n",
    "    backstory=\"A highly experienced communication expert skilled in professional email writing\",\n",
    "    verbose=True,\n",
    "    llm=llm\n",
    ")\n",
    "\n",
    "original_email = \"\"\"\n",
    "hey team, just wanted to tell u that the demo is kind of ready, but there's still stuff left.\n",
    "Maybe we can show what we have and say rest is WIP.\n",
    "Let me know what u think. thanks\n",
    "\"\"\"\n",
    "\n",
    "email_task = Task(\n",
    "    description=f\"\"\"Take the following rough email and rewrite it into a professional and polished version.\n",
    "    Expand abbreviations:\n",
    "    '''{original_email}'''\"\"\",\n",
    "    agent=email_assistant,\n",
    "    expected_output=\"A professional written email with proper formatting and content.\",\n",
    ")\n",
    "\n",
    "crew = Crew(\n",
    "    agents=[email_assistant],\n",
    "    tasks=[email_task],\n",
    "    verbose=True\n",
    ")\n",
    "\n",
    "result = crew.kickoff()\n",
    "print(result)"
   ]
  }
 ],
 "metadata": {
  "kernelspec": {
   "display_name": "crewai-tutorial",
   "language": "python",
   "name": "python3"
  },
  "language_info": {
   "codemirror_mode": {
    "name": "ipython",
    "version": 3
   },
   "file_extension": ".py",
   "mimetype": "text/x-python",
   "name": "python",
   "nbconvert_exporter": "python",
   "pygments_lexer": "ipython3",
   "version": "3.13.1"
  }
 },
 "nbformat": 4,
 "nbformat_minor": 2
}
